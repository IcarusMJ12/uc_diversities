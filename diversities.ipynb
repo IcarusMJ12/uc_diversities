{
 "cells": [
  {
   "cell_type": "markdown",
   "metadata": {},
   "source": [
    "# 'Diversity' mentions in the UC budget details\n",
    "\n",
    "According to [this article](https://www.city-journal.org/html/less-academics-more-narcissism-10885.html) from 2011, at the time the UC system just experienced severe budget cuts, and yet \"not only have diversity sinecures been protected from budget cuts, their numbers are actually growing.\"\n",
    "\n",
    "I decided to investigate this by looking over the operating budget details for the UC system as [published by UCOP](http://ucop.edu/operating-budget/budgets-and-reports/current-operations-budgets/index.html).\n",
    "\n",
    "The problem here is that I really didn't want to scour 10 documents that average over 200 pages each.  Instead, I decided to settle on a different metric -- the frequency of the occurrences of the word 'diversity' in each document.\n",
    "\n",
    "## Methodology\n",
    "\n",
    "I used `pdfgrep`, `pdftotext`, `pdfinfo`, `wc`, and `awk` to collect the data from the document.  Below are some sample commands.\n",
    "\n",
    "    > for i in 20*.pdf; do pdftotext $i -; done | wc -w\n",
    "    1051261\n",
    "\n",
    "    > pdfgrep -i -c diversity 20*.pdf\n",
    "    2008-09BudgRequestDetail.pdf:16\n",
    "    2009-10BudgetforCurrentOperations-BudgetDetail.pdf:11\n",
    "    2010-11BudgetforCurrentOperations-BudgetDetailrev.pdf:42\n",
    "    2011-12-budget-detail.pdf:36\n",
    "    2012-13-budget.pdf:35\n",
    "    2013-14-budget.pdf:39\n",
    "    2014-15budgetforcurrentoperations.pdf:40\n",
    "    2015-16budgetforcurrentoperations_.pdf:50\n",
    "    2016-17budgetforcurrentoperations.pdf:52\n",
    "    2017-18budgetforcurrentoperations.pdf:63\n",
    "\n",
    "    > for i in 20*.pdf; do pdfinfo $i | grep Pages | cut -d':' -f 2; done | awk '{sum += $1} END {print sum}'\n",
    "    2146\n",
    "\n",
    "There is an average of 489.87 words per page.  This was the divisor to calculate the 'diversity ratio' below.\n",
    "\n",
    "## Results\n",
    "\n",
    "|year | diversities | pages | diversities/page | diversity ratio |\n",
    "|-----|-------------|-------|------------------|-----------------|\n",
    "|2008 |          16 |   270 |            0.059 | 0.0001204       |\n",
    "|2009 |          11 |   180 |            0.061 | 0.0001245       |\n",
    "|2010 |          42 |   181 |            0.232 | 0.0004736       |\n",
    "|2011 |          36 |   160 |            0.225 | 0.0004593       |\n",
    "|2012 |          35 |   203 |            0.172 | 0.0003511       |\n",
    "|2013 |          39 |   220 |            0.177 | 0.0003613       |\n",
    "|2014 |          40 |   218 |            0.183 | 0.0003736       |\n",
    "|2015 |          50 |   232 |            0.216 | 0.0004409       |\n",
    "|2016 |          52 |   236 |            0.220 | 0.0004491       |\n",
    "|2017 |          63 |   246 |            0.256 | 0.0004613       |\n",
    "\n",
    "Curiously, there's a peak in 'diversities' mentions in 2010, appropriately the year before the article was written.  The mentions drop off to a local low in 2012 and steadily rise again from there.  What could this mean?"
   ]
  },
  {
   "cell_type": "markdown",
   "metadata": {},
   "source": [
    "# Time for a linear regression!\n",
    "\n",
    "Now, I'm not a data scientist, but I can cherry pick data and choose a model that supports my claims as well as anyone.  With that out of the way, what will happen if we fit a linear regression as a function of year, and year^2?"
   ]
  },
  {
   "cell_type": "code",
   "execution_count": 22,
   "metadata": {
    "collapsed": false
   },
   "outputs": [],
   "source": [
    "from sklearn import linear_model\n",
    "import matplotlib\n",
    "%matplotlib inline\n",
    "from matplotlib import pyplot as plt"
   ]
  },
  {
   "cell_type": "code",
   "execution_count": 23,
   "metadata": {
    "collapsed": false
   },
   "outputs": [
    {
     "name": "stdout",
     "output_type": "stream",
     "text": [
      "diversity count per page: 491\n"
     ]
    },
    {
     "data": {
      "image/png": "[encoded data removed]",
      "text/plain": [
       "<matplotlib.figure.Figure at 0x108d623d0>"
      ]
     },
     "metadata": {},
     "output_type": "display_data"
    },
    {
     "data": {
      "image/png": "[encoded data removed]",
      "text/plain": [
       "<matplotlib.figure.Figure at 0x104c41090>"
      ]
     },
     "metadata": {},
     "output_type": "display_data"
    }
   ],
   "source": [
    "import numpy as np\n",
    "\n",
    "# do year, year-squared starting in 2012 because that's where the consistent upward trend starts\n",
    "years = np.array(range(2012, 2018))\n",
    "normalized_years = np.array([i - 2011 for i in years])\n",
    "X2 = np.array([[i, i**2] for i in years])\n",
    "y = np.array([0.172, 0.177, 0.183, 0.216, 0.220, 0.256])\n",
    "\n",
    "lr2 = linear_model.LinearRegression(normalize=True)\n",
    "lr2.fit(X2, y)\n",
    "# total diversity saturation here\n",
    "SATURATION_YEAR = 2444\n",
    "predict_years = np.array(range(2012,2018) + [2020, 2040, 2100, 2180, 2280, 2400, SATURATION_YEAR])\n",
    "predict_norm_years = np.array([i - 2011 for i in predict_years])\n",
    "predict_X2 = np.array([[i, i**2] for i in predict_years])\n",
    "print \"diversity count per page: %i\" % lr2.predict([[SATURATION_YEAR, SATURATION_YEAR**2]])[0]\n",
    "plt.plot(years, lr2.predict(X2), color='blue', linewidth=3)\n",
    "plt.scatter(years, y, color='black')\n",
    "plt.show()\n",
    "plt.plot(predict_norm_years, lr2.predict(predict_X2), color='blue', linewidth=3)\n",
    "plt.scatter(normalized_years, y, color='black')\n",
    "plt.xscale('log')\n",
    "plt.show()"
   ]
  },
  {
   "cell_type": "code",
   "execution_count": 24,
   "metadata": {
    "collapsed": false
   },
   "outputs": [
    {
     "name": "stdout",
     "output_type": "stream",
     "text": [
      "[ -1.05594964e+01   2.62500000e-03] 10619.4999929\n"
     ]
    }
   ],
   "source": [
    "print lr2.coef_, lr2.intercept_"
   ]
  },
  {
   "cell_type": "markdown",
   "metadata": {},
   "source": [
    "## Now with normalization and more features\n",
    "\n",
    "Let's be a bit more rigorous here. We can't fake being a data scientist if we don't do validation and hyperparameter tuning."
   ]
  },
  {
   "cell_type": "code",
   "execution_count": 25,
   "metadata": {
    "collapsed": false
   },
   "outputs": [
    {
     "data": {
      "image/png": "[encoded data removed]",
      "text/plain": [
       "<matplotlib.figure.Figure at 0x108f2cc50>"
      ]
     },
     "metadata": {},
     "output_type": "display_data"
    }
   ],
   "source": [
    "from math import sqrt\n",
    "\n",
    "feat_extract = lambda x: [x**(1.0+i/10.0) for i in range(0,31)]\n",
    "\n",
    "lr_norm = linear_model.LassoCV(normalize=True)\n",
    "features = np.array([feat_extract(i) for i in normalized_years])\n",
    "lr_norm.fit(features, y)\n",
    "predict_features = [feat_extract(i) for i in predict_norm_years]\n",
    "plt.plot(predict_norm_years, lr_norm.predict(predict_features), color='blue', linewidth=3)\n",
    "# plt.plot(normalized_years, lr_norm.predict(features), color='blue', linewidth=3)\n",
    "plt.scatter(normalized_years, y, color='black')\n",
    "plt.xscale('log')\n",
    "plt.show()"
   ]
  },
  {
   "cell_type": "code",
   "execution_count": 26,
   "metadata": {
    "collapsed": false
   },
   "outputs": [
    {
     "name": "stdout",
     "output_type": "stream",
     "text": [
      "0.00552213417086 [ 0.          0.          0.          0.          0.          0.          0.\n",
      "  0.          0.          0.          0.00060701  0.00042662  0.00010911\n",
      "  0.          0.          0.          0.          0.          0.          0.\n",
      "  0.          0.          0.          0.          0.          0.          0.\n",
      "  0.          0.          0.          0.        ] 0.184993075042\n",
      "\n",
      "0.184993075042  + 0.000607x^2.0  + 0.000427x^2.1  + 0.000109x^2.2 \n"
     ]
    }
   ],
   "source": [
    "print lr_norm.alpha_, lr_norm.coef_, lr_norm.intercept_\n",
    "print ''\n",
    "\n",
    "print lr_norm.intercept_,\n",
    "coef = lr_norm.coef_\n",
    "for i in range(len(coef)):\n",
    "    if coef[i] == 0:\n",
    "        continue\n",
    "    print \" + %fx^%.1f\" % (coef[i], 1.0 + i/10.0),\n",
    "print ''"
   ]
  },
  {
   "cell_type": "code",
   "execution_count": 27,
   "metadata": {
    "collapsed": false
   },
   "outputs": [
    {
     "name": "stdout",
     "output_type": "stream",
     "text": [
      "2535 490.76198172\n"
     ]
    }
   ],
   "source": [
    "j = 2100\n",
    "prediction = 0\n",
    "while True:\n",
    "    prediction = lr_norm.predict([feat_extract(j - 2011)])[0]\n",
    "    if prediction > 490:\n",
    "        break\n",
    "    j += 1\n",
    "print j, prediction"
   ]
  },
  {
   "cell_type": "code",
   "execution_count": 28,
   "metadata": {
    "collapsed": false
   },
   "outputs": [
    {
     "name": "stdout",
     "output_type": "stream",
     "text": [
      "Training error: 0.00021675\n"
     ]
    }
   ],
   "source": [
    "print(\"Training error: %.8f\" % np.mean((lr_norm.predict(features) - np.array(y)) ** 2))"
   ]
  },
  {
   "cell_type": "markdown",
   "metadata": {},
   "source": [
    "## Conclusion\n",
    "\n",
    "By the year 2535, the entire UC budget details document will consist entirely of the word 'diversity' repeated ad nauseam.\n",
    "\n",
    "Hmm, that doesn't seem right.  Maybe I should've used a multilayer perceptron instead."
   ]
  }
 ],
 "metadata": {
  "kernelspec": {
   "display_name": "Python 2",
   "language": "python",
   "name": "python2"
  },
  "language_info": {
   "codemirror_mode": {
    "name": "ipython",
    "version": 2
   },
   "file_extension": ".py",
   "mimetype": "text/x-python",
   "name": "python",
   "nbconvert_exporter": "python",
   "pygments_lexer": "ipython2",
   "version": "2.7.13"
  }
 },
 "nbformat": 4,
 "nbformat_minor": 0
}
